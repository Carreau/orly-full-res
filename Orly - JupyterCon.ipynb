{
 "cells": [
  {
   "cell_type": "markdown",
   "metadata": {},
   "source": [
    "# Leveraging the Jupyter and IPython display protocol"
   ]
  },
  {
   "cell_type": "markdown",
   "metadata": {},
   "source": [
    "This is a small essay to show how one can make a better use of the display protocol. All you will see in this blog post has been available for a couple of years but no one really built on top of this. "
   ]
  },
  {
   "cell_type": "markdown",
   "metadata": {},
   "source": [
    "It is usually known that the IPython rich display mechanism allows library authors to define rich representation for \n",
    "their objects. You may have seen it in [SymPy](http://www.sympy.org/en/index.html), which makes extensive use of the latex representation, and [Pandas](http://pandas.pydata.org/) which offers a nice HTML view of dataframes. "
   ]
  },
  {
   "cell_type": "markdown",
   "metadata": {},
   "source": [
    "What I'm going to show below, is that one is not limited to these – you can alter the representation of any existing object without modifying its source – and that this can be used to alter the view of containers, with the example of lists, to make things easy to read. "
   ]
  },
  {
   "cell_type": "markdown",
   "metadata": {},
   "source": [
    "## Modifying objects reprs"
   ]
  },
  {
   "cell_type": "markdown",
   "metadata": {},
   "source": [
    "This section is just a reminder of how one can change defined representation for objects whose source code is under your \n",
    "control. When defining a class, the code author needs to define a number of methods which should return the `(data, metadata)` pair for a given object mimetype. If no metadata is necessary, these can be omitted. For some common representations, short method names are available. These methods can be recognized as they all follow the following pattern: `_repr_*_(self)`. That is to say, an underscore, followed by `repr` followed by an underscore. The star `*` needs to be replaced by a lowercase identifier often referring to a short human readable description of the format (e.g.: `png` , `html`, `pretty`, ...). Finish with a single underscore. We note that unlike the python `__repr__` (pronounced \"Dunder rep-er\" which starts and ends with two underscores, the \"Rich reprs\" or \"Reprs-stars\" start and end with a _single_ underscore."
   ]
  },
  {
   "cell_type": "markdown",
   "metadata": {},
   "source": [
    "Here is the class definition of a simple object that implements three of the rich representation methods:\n",
    "\n",
    "  - \"text/html\" via the `_repr_html_` method\n",
    "  - \"text/latex\" via the `_repr_latex_` method\n",
    "  - \"text/markdown\" via the `_repr_markdown_` method\n",
    "\n",
    "None of these methods returns a tuple, thus IPython will infer that there is no associated metadata.\n",
    "  \n",
    "The \"text/plain\" mimetype representation is provided by the classical Python's `__repr__(self)`."
   ]
  },
  {
   "cell_type": "code",
   "execution_count": null,
   "metadata": {},
   "outputs": [],
   "source": [
    "print(\"remember to clear all outputs :-) \")"
   ]
  },
  {
   "cell_type": "code",
   "execution_count": 6,
   "metadata": {},
   "outputs": [],
   "source": [
    "class MultiMime:\n",
    "    \n",
    "    def __repr__(self):\n",
    "        return \"this is the repr\"\n",
    "    \n",
    "    def _repr_html_(self):\n",
    "        return \"This <b>is</b> html\"\n",
    "    \n",
    "    def _repr_markdown_(self):\n",
    "        return \"This **is** markdown\"\n",
    "\n",
    "    def _repr_latex_(self):\n",
    "        return \"$ Latex \\otimes mimetype $\""
   ]
  },
  {
   "cell_type": "code",
   "execution_count": 7,
   "metadata": {},
   "outputs": [
    {
     "data": {
      "text/html": [
       "This <b>is</b> html"
      ],
      "text/latex": [
       "$ Latex \\otimes mimetype $"
      ],
      "text/markdown": [
       "This **is** mardown"
      ],
      "text/plain": [
       "this is the repr"
      ]
     },
     "metadata": {},
     "output_type": "display_data"
    }
   ],
   "source": [
    "display(MultiMime())"
   ]
  },
  {
   "cell_type": "code",
   "execution_count": 8,
   "metadata": {},
   "outputs": [
    {
     "data": {
      "text/html": [
       "This <b>is</b> html"
      ],
      "text/latex": [
       "$ Latex \\otimes mimetype $"
      ],
      "text/markdown": [
       "This **is** markdown"
      ],
      "text/plain": [
       "this is the repr"
      ]
     },
     "execution_count": 2,
     "metadata": {},
     "output_type": "execute_result"
    }
   ],
   "source": [
    "MultiMime()"
   ]
  },
  {
   "cell_type": "code",
   "execution_count": null,
   "metadata": {},
   "outputs": [],
   "source": [
    "# restart the kernel"
   ]
  },
  {
   "cell_type": "code",
   "execution_count": null,
   "metadata": {},
   "outputs": [],
   "source": [
    "MultiMime()"
   ]
  },
  {
   "cell_type": "markdown",
   "metadata": {},
   "source": [
    "All the mimetype representations will be sent to the front end (in many cases the notebook web interface), and the richer one will be picked and displayed to the user. All representations are stored in the notebook document (on disk) and this can be chosen from when the document is later reopened – even with no kernel attached – or converted to another format. "
   ]
  },
  {
   "cell_type": "markdown",
   "metadata": {},
   "source": [
    "## External formatters and containers"
   ]
  },
  {
   "cell_type": "markdown",
   "metadata": {},
   "source": [
    "As stated in teh introduction, you do not need to have control over an object source code to change its representation. Still it is often a more convenient process. AS an example we will build a Container for image thumbnails and see how we can use the code written for this custom container to apply it to generic Python containers like lists. "
   ]
  },
  {
   "cell_type": "markdown",
   "metadata": {},
   "source": [
    "As a visual example we'll use Orly Parody books covers, in particular a small resolution of some of them so llimit the amount of data we'll be working with. "
   ]
  },
  {
   "cell_type": "code",
   "execution_count": null,
   "metadata": {},
   "outputs": [],
   "source": [
    "cd thumb"
   ]
  },
  {
   "cell_type": "markdown",
   "metadata": {},
   "source": [
    "let's see some of the images present in this folder:"
   ]
  },
  {
   "cell_type": "code",
   "execution_count": null,
   "metadata": {},
   "outputs": [],
   "source": [
    "names = !ls *.png\n",
    "names[:20], f\"{len(names) - 10} more\""
   ]
  },
  {
   "cell_type": "markdown",
   "metadata": {},
   "source": [
    "in the above i've used an IPython specific syntax (`!ls`) ton conveniently extract all the files with a png extension  (`*.png`) in the current working directory, and assign this to teh `names` variable."
   ]
  },
  {
   "cell_type": "markdown",
   "metadata": {},
   "source": [
    "That's cute, but, for images, not really usefull. We know we can display images in the Jupyter notebook when using the IPython kernel, for that we can use the `Image` class situated in the `IPython.display` submodule. We can construct such object simply by passing the filename. `Image` does already provide a rich representation:"
   ]
  },
  {
   "cell_type": "code",
   "execution_count": null,
   "metadata": {},
   "outputs": [],
   "source": [
    "from IPython.display import Image"
   ]
  },
  {
   "cell_type": "code",
   "execution_count": null,
   "metadata": {},
   "outputs": [],
   "source": [
    "im = Image(names[0])\n",
    "im"
   ]
  },
  {
   "cell_type": "markdown",
   "metadata": {},
   "source": [
    "The raw data from the image file is available via the `.data` attribute:"
   ]
  },
  {
   "cell_type": "code",
   "execution_count": null,
   "metadata": {},
   "outputs": [],
   "source": [
    "im.data[:20]"
   ]
  },
  {
   "cell_type": "markdown",
   "metadata": {},
   "source": [
    "What if we map `Images` to each element of a list ?"
   ]
  },
  {
   "cell_type": "code",
   "execution_count": null,
   "metadata": {},
   "outputs": [],
   "source": [
    "from random import choices\n",
    "mylist = list(map(Image, set(choices(names, k=10))))\n",
    "mylist"
   ]
  },
  {
   "cell_type": "markdown",
   "metadata": {},
   "source": [
    "Well unfortunately a list object only knows how to represent itself using text and the text representation of its elements. We'll have to build a thumbnail gallery ourself."
   ]
  },
  {
   "cell_type": "markdown",
   "metadata": {},
   "source": [
    "First let's (re)-build an HTML representation for display a single image:"
   ]
  },
  {
   "cell_type": "code",
   "execution_count": null,
   "metadata": {},
   "outputs": [],
   "source": [
    "import base64\n",
    "from IPython.display import HTML\n",
    "def tag_from_data(data, size='100%'):\n",
    "    return (\n",
    "        '''<img\n",
    "             style=\"display:inline;\n",
    "                    width:{1};\n",
    "                    max-width:400px;\n",
    "                    padding:10px;\n",
    "                    margin-top:14px\"\n",
    "             src=\"data:image/png;base64,{0}\"\n",
    "           />\n",
    "           ''').format(''.join(base64.encodebytes(data).decode().split('\\n')), size)"
   ]
  },
  {
   "cell_type": "markdown",
   "metadata": {},
   "source": [
    "We encode the data from bytes to base64 (newline separated), and strip the newlines. We format that into an Html template – with some inline style – and set the source (`src` to be this base64 encoded string). We can check that this display correctly by wrapping the all thing in an `HTML` object that provide a conveninent `_repr_html_`. "
   ]
  },
  {
   "cell_type": "code",
   "execution_count": null,
   "metadata": {},
   "outputs": [],
   "source": [
    "HTML(tag_from_data(im.data))"
   ]
  },
  {
   "cell_type": "markdown",
   "metadata": {},
   "source": [
    "Now we can create our own subclass, hich take a list of images and contruct and HTML representation for each of these, then join them together. We define and define a `_repr_html_`, that wrap the all in a paragraph tag, and add a comma between each image: "
   ]
  },
  {
   "cell_type": "code",
   "execution_count": null,
   "metadata": {},
   "outputs": [],
   "source": [
    "class VignetteList:\n",
    "    \n",
    "    \n",
    "    def __init__(self, *images, size=None):\n",
    "        self.images = images\n",
    "        self.size = size\n",
    "        \n",
    "    def _repr_html_(self):\n",
    "        return '<p>'+','.join(tag_from_data(im.data, self.size)  for im in self.images)+'</p>'\n",
    "    \n",
    "    def _repr_latex_(self):\n",
    "        return '$ O^{rly}_{books} (%s\\ images)$ ' % (len(self.images))\n",
    "        "
   ]
  },
  {
   "cell_type": "markdown",
   "metadata": {},
   "source": [
    "We also define a LaTeX Representation – that we will not use here, and look at our newly created object using previously defined list:"
   ]
  },
  {
   "cell_type": "code",
   "execution_count": null,
   "metadata": {
    "scrolled": false
   },
   "outputs": [],
   "source": [
    "VignetteList(*mylist, size='200px')"
   ]
  },
  {
   "cell_type": "markdown",
   "metadata": {},
   "source": [
    "That is nice, though it forces us to unpack all the lists we have explicitely into a VignetteList – which may be annoying. Let's cleanup a bit the above, and register an external formatter for the \"text/html\" mimetype that should be used for any object which is a `list`. We'll also improve the formatter to recusrse in objects. THat is to say: \n",
    "  - If it's an image return the PNG data in an `<img>` tag, \n",
    "  - If it's an object that has an `text/html` reprensetation, use that. \n",
    "  - Otherwise, use th repr. \n",
    "  \n",
    "With this we loose some nice formatting of text lists with the pretty module, we could easily fix that; but we leve it as an exercice for the reader. "
   ]
  },
  {
   "cell_type": "code",
   "execution_count": null,
   "metadata": {},
   "outputs": [],
   "source": [
    "def tag_from_data_II(data, size='100%'):\n",
    "    return '''<img\n",
    "                    style=\"\n",
    "                        display:inline;\n",
    "                        width:{1};\n",
    "                        max-width:400px;\n",
    "                        padding:10px;\n",
    "                        margin-top:14px\"\n",
    "                    onMouseOver=\"this.style['box-shadow']='5px 5px 30px 0px rgba(163,163,163,1)'\" \n",
    "                    onMouseOut=\"this.style['box-shadow']=''\"\n",
    "                    src=\"data:image/png;base64,{0}\" \n",
    "             />'''.format(''.join(base64.encodebytes(data).decode().split('\\n')), size)\n",
    "\n",
    "def html_list_formatter(ll):\n",
    "    html = get_ipython().display_formatter.formatters['text/html']\n",
    "    reps = []\n",
    "    for o in ll:\n",
    "        if isinstance(o, Image):\n",
    "            reps.append(tag_from_data_II(o.data, '200px') )\n",
    "        else: \n",
    "            h = html(o)\n",
    "            if h:    \n",
    "                reps.append(h)\n",
    "            else:\n",
    "                reps.append(repr(o)+'')\n",
    "    \n",
    "    return '<span>['+','.join(reps)+']</span>'"
   ]
  },
  {
   "cell_type": "markdown",
   "metadata": {},
   "source": [
    "Same as before, with square bracket after and before, and a bit of styling that change the drop shadow on hover. Now we register the above with IPython:"
   ]
  },
  {
   "cell_type": "code",
   "execution_count": null,
   "metadata": {},
   "outputs": [],
   "source": [
    "mylist"
   ]
  },
  {
   "cell_type": "code",
   "execution_count": null,
   "metadata": {},
   "outputs": [],
   "source": [
    "ipython = get_ipython()\n",
    "html_formatter = ipython.display_formatter.formatters['text/html']\n",
    "html_formatter.for_type(list, html_list_formatter)"
   ]
  },
  {
   "cell_type": "code",
   "execution_count": null,
   "metadata": {
    "scrolled": false
   },
   "outputs": [],
   "source": [
    "mylist"
   ]
  },
  {
   "cell_type": "markdown",
   "metadata": {},
   "source": [
    "## Disp\n",
    "\n",
    "External integration for some already existing object is available in [disp](https://github.com/ipython/disp), in particular you will find representation for SparkContext, `requests`'s `Responses` object (collapsible json content and headers), as well as a couple others. "
   ]
  },
  {
   "cell_type": "code",
   "execution_count": null,
   "metadata": {},
   "outputs": [],
   "source": [
    "from requests.models import Response\n",
    "import requests"
   ]
  },
  {
   "cell_type": "code",
   "execution_count": null,
   "metadata": {},
   "outputs": [],
   "source": [
    "def req_formatter(response):\n",
    "    return \"&lt;This is a response object&gt;\""
   ]
  },
  {
   "cell_type": "code",
   "execution_count": null,
   "metadata": {},
   "outputs": [],
   "source": [
    "html_formatter.for_type(Response, req_formatter)"
   ]
  },
  {
   "cell_type": "code",
   "execution_count": null,
   "metadata": {},
   "outputs": [],
   "source": [
    "r = requests.get('https://api.github.com')\n",
    "r"
   ]
  },
  {
   "cell_type": "markdown",
   "metadata": {},
   "source": [
    "### Existing formatters"
   ]
  },
  {
   "cell_type": "code",
   "execution_count": null,
   "metadata": {},
   "outputs": [],
   "source": [
    "from disp.py3only import html_formatter_for_Response\n",
    "html_formatter.for_type(Response, html_formatter_for_Response)"
   ]
  },
  {
   "cell_type": "code",
   "execution_count": null,
   "metadata": {},
   "outputs": [],
   "source": [
    "r"
   ]
  },
  {
   "cell_type": "markdown",
   "metadata": {},
   "source": [
    "### Completion"
   ]
  },
  {
   "cell_type": "markdown",
   "metadata": {},
   "source": [
    "static inference is a possibility when the code has not been executed:"
   ]
  },
  {
   "cell_type": "code",
   "execution_count": null,
   "metadata": {},
   "outputs": [],
   "source": [
    "l = [\"a\", 1, html_formatter]\n",
    "l[0].capitalize"
   ]
  },
  {
   "cell_type": "markdown",
   "metadata": {},
   "source": [
    "Some information are hard to infer, or cannot be infered:"
   ]
  },
  {
   "cell_type": "code",
   "execution_count": null,
   "metadata": {},
   "outputs": [],
   "source": [
    "from random import choice\n",
    "el = choice(l)"
   ]
  },
  {
   "cell_type": "markdown",
   "metadata": {},
   "source": [
    "For this the kernel may decide to actually inspect the current underlying state:"
   ]
  },
  {
   "cell_type": "code",
   "execution_count": null,
   "metadata": {},
   "outputs": [],
   "source": [
    "el."
   ]
  },
  {
   "cell_type": "markdown",
   "metadata": {},
   "source": [
    "## Magic integration, cross languages"
   ]
  },
  {
   "cell_type": "markdown",
   "metadata": {},
   "source": [
    "The above demonstatratino show that a kernel is more than a language, it is a controling process that manage user requests (in our case code execution) and how the results are returned to the user. There is often the assumtion that a kernel is a single language, this is an incorrect assumtion as a kernl proces may manage several language and can orchestrate data movement from one language to another. \n",
    "\n",
    "In the following we can see how a Python process make use of what we have defined above to make sql querries returning rich results. We also see that the execution od SQL queries have side effects in the Python namespace, showing how the kernel can orchestrate things. "
   ]
  },
  {
   "cell_type": "code",
   "execution_count": null,
   "metadata": {},
   "outputs": [],
   "source": [
    "load_ext fakesql"
   ]
  },
  {
   "cell_type": "code",
   "execution_count": null,
   "metadata": {},
   "outputs": [],
   "source": [
    "try:\n",
    "    rly\n",
    "except NameError:\n",
    "    print('`rly` not defined')"
   ]
  },
  {
   "cell_type": "code",
   "execution_count": null,
   "metadata": {},
   "outputs": [],
   "source": [
    "%%sql\n",
    "SELECT name,cover from orly WHERE color='purple' LIMIT 5"
   ]
  },
  {
   "cell_type": "code",
   "execution_count": null,
   "metadata": {},
   "outputs": [],
   "source": [
    "rly[2]"
   ]
  },
  {
   "cell_type": "markdown",
   "metadata": {},
   "source": [
    "It would not be hard to have modification of the Python namespace to affect the SQL database, this is left as an exercise to the user as well (hint use properties) and to have integration with other languages like R, Julia, ... "
   ]
  },
  {
   "cell_type": "markdown",
   "metadata": {},
   "source": [
    "## More languages:\n",
    "\n",
    "See [here](http://carreau.github.io/posts/23-Cross-Language-Integration.html) for R,C, Python, Cython, Rust, Fortran, Julia in the same notebook."
   ]
  },
  {
   "cell_type": "markdown",
   "metadata": {},
   "source": [
    "Note:\n",
    "\n",
    "> This notebook has initially been written to display prototype features of IPython and the Jupyter notebook, in particular completions of cell magic (for the Sql Cell), and UI element allowing to switch between the shown mimetype. This will not be reflected in static rendering and is not mentioned in the text, which may lead to a confusing read. "
   ]
  }
 ],
 "metadata": {
  "kernelspec": {
   "display_name": "PythonRoot",
   "language": "python",
   "name": "pythonroot"
  },
  "language_info": {
   "codemirror_mode": {
    "name": "ipython",
    "version": 3
   },
   "file_extension": ".py",
   "mimetype": "text/x-python",
   "name": "python",
   "nbconvert_exporter": "python",
   "pygments_lexer": "ipython3",
   "version": "3.6.1"
  }
 },
 "nbformat": 4,
 "nbformat_minor": 2
}
